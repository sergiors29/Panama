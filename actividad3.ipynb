{
 "cells": [
  {
   "cell_type": "markdown",
   "id": "266f3b65",
   "metadata": {},
   "source": [
    "## Constitucion de la Republica de Panama"
   ]
  },
  {
   "cell_type": "markdown",
   "id": "99293868",
   "metadata": {},
   "source": [
    "Panama es un pais con menos de 5 millones de habitantes, ubicado en el centro de America. Sirve para unir territorios de Suramerica y Centroamerica, aunque su frontera con Colombia es rodeada de selva y aguas. No existe una carretera formal para unir a ambos paises."
   ]
  },
  {
   "cell_type": "markdown",
   "id": "2d8f0e2a",
   "metadata": {},
   "source": [
    "## Articulo 1."
   ]
  },
  {
   "cell_type": "markdown",
   "id": "74cde7cf",
   "metadata": {},
   "source": [
    "Cambios"
   ]
  },
  {
   "cell_type": "markdown",
   "id": "5e4f5dd7",
   "metadata": {},
   "source": [
    "Y mas cambios"
   ]
  },
  {
   "cell_type": "markdown",
   "id": "e4dbafc0",
   "metadata": {},
   "source": [
    "De esta manera culmina el ejercicio de redaccion de la Constitucion vigente en la Republica de Panama. Año 2022."
   ]
  }
 ],
 "metadata": {
  "kernelspec": {
   "display_name": "Python 3 (ipykernel)",
   "language": "python",
   "name": "python3"
  },
  "language_info": {
   "codemirror_mode": {
    "name": "ipython",
    "version": 3
   },
   "file_extension": ".py",
   "mimetype": "text/x-python",
   "name": "python",
   "nbconvert_exporter": "python",
   "pygments_lexer": "ipython3",
   "version": "3.9.12"
  }
 },
 "nbformat": 4,
 "nbformat_minor": 5
}
