{
 "cells": [
  {
   "cell_type": "markdown",
   "id": "5057adce",
   "metadata": {},
   "source": [
    "## Constitucion de la Republica de Panama"
   ]
  },
  {
   "cell_type": "markdown",
   "id": "441288c3",
   "metadata": {},
   "source": [
    "Panama es un pais con menos de 5 millones de habitantes, ubicado en el centro de America. Sirve para unir territorios de Suramerica y Centroamerica, aunque su frontera con Colombia es rodeada de selva y aguas. No existe una carretera formal para unir a ambos paises."
   ]
  },
  {
   "cell_type": "markdown",
   "id": "7524b1a3",
   "metadata": {},
   "source": [
    "## Articulo 1."
   ]
  },
  {
   "cell_type": "code",
   "execution_count": null,
   "id": "21ec1c4b",
   "metadata": {},
   "outputs": [],
   "source": []
  },
  {
   "cell_type": "code",
   "execution_count": null,
   "id": "79cb5e4c",
   "metadata": {},
   "outputs": [],
   "source": []
  },
  {
   "cell_type": "markdown",
   "id": "358db626",
   "metadata": {},
   "source": [
    "De esta manera culmina el ejercicio de redaccion de la Constitucion vigente en la Republica de Panama. Año 2022."
   ]
  }
 ],
 "metadata": {
  "kernelspec": {
   "display_name": "Python 3 (ipykernel)",
   "language": "python",
   "name": "python3"
  },
  "language_info": {
   "codemirror_mode": {
    "name": "ipython",
    "version": 3
   },
   "file_extension": ".py",
   "mimetype": "text/x-python",
   "name": "python",
   "nbconvert_exporter": "python",
   "pygments_lexer": "ipython3",
   "version": "3.9.12"
  }
 },
 "nbformat": 4,
 "nbformat_minor": 5
}
